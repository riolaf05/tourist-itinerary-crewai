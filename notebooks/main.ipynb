{
 "cells": [
  {
   "cell_type": "markdown",
   "metadata": {},
   "source": [
    "Usare: \n",
    "`langchain-crewai-agent\\.venv\\crewai\\Scripts\\Activate.ps1`\n",
    "\n",
    "CrewAI funziona solo su Linux!!"
   ]
  },
  {
   "cell_type": "code",
   "execution_count": null,
   "metadata": {},
   "outputs": [],
   "source": [
    "import os\n",
    "from crewai import Agent\n",
    "from crewai import Task\n",
    "from crewai_tools import SerperDevTool, ScrapeWebsiteTool, WebsiteSearchTool\n",
    "from dotenv import load_dotenv, find_dotenv\n",
    "load_dotenv(find_dotenv()) # important line if cannot load api key\n",
    "serper_search_tool = SerperDevTool()\n",
    "scrap_tool = ScrapeWebsiteTool()\n",
    "website_search_tool = WebsiteSearchTool()"
   ]
  },
  {
   "cell_type": "code",
   "execution_count": null,
   "metadata": {},
   "outputs": [],
   "source": [
    "# define the tools to be used by the Agents\n",
    "tools=[serper_search_tool, scrap_tool, website_search_tool]"
   ]
  },
  {
   "cell_type": "code",
   "execution_count": null,
   "metadata": {},
   "outputs": [],
   "source": [
    "# Define the Agents\n",
    "travel_expert = Agent(\n",
    "    role='Hotel Researcher',\n",
    "    goal='Efficiently locate and compile a comprehensive list of suitable hotel options in the specified location, \\\n",
    "        adhering to the given criteria such as check-in/out dates, number of guests, and any other specific requirements. \\\n",
    "        Ensure the gathered information is accurate, up-to-date, and includes key details like pricing, amenities, and guest ratings.',\n",
    "    backstory='You are an experienced digital travel concierge with a keen eye for detail and a passion for finding the perfect accommodations.\\\n",
    "        With years of experience in the hospitality industry and a vast knowledge of global hotel chains and boutique properties, you\\\n",
    "        have honed your skills in navigating various booking platforms and hotel databases. \\\n",
    "        Your expertise lies in quickly sifting through numerous options to identify the most suitable choices for travelers, \\\n",
    "        taking into account factors such as location, price, amenities, and guest reviews.',\n",
    "    verbose=True,\n",
    "    allow_delegation=False,\n",
    "    llm=llm,\n",
    "    tools=tools,   \n",
    ")\n",
    "\n",
    "hotel_reviewer = Agent(\n",
    "    role='Hotel Quality Analyst',\n",
    "    goal='Thoroughly evaluate and compare hotel options to provide detailed, unbiased assessments that help travelers make informed decisions. \\\n",
    "        Analyze each hotel\\'s amenities, location, value for money, and guest experiences to create comprehensive reviews that highlight strengths, weaknesses, and unique features.',\n",
    "    backstory='You are a seasoned travel industry professional with over a decade of experience in hotel evaluation and critique. \\\n",
    "        Your background includes working as a luxury hotel inspector, a travel journalist for renowned publications, and a consultant for hotel rating systems. \\\n",
    "        This diverse experience has honed your ability to assess accommodations from multiple perspectives, considering both objective criteria and subjective guest experiences. \\\n",
    "        Your reviews are known for their depth, fairness, and ability to capture the essence of each property. You have a particular talent for identifying hidden gems and spotting potential issues that might affect a guest\\'s stay. \\\n",
    "        Your expertise covers a wide range of accommodations, from budget-friendly options to ultra-luxury resorts, and you\\'re adept at evaluating hotels in various cultural contexts around the world.',\n",
    "    verbose=True,\n",
    "    allow_delegation=False,\n",
    "    llm=llm,\n",
    "    tools=tools, \n",
    ")"
   ]
  },
  {
   "cell_type": "code",
   "execution_count": null,
   "metadata": {},
   "outputs": [],
   "source": [
    "# Define the Tasks\n",
    "hotel_search_task = Task(\n",
    "    description=\"Search for 5 hotels in {location} for {number_of_people} adult people, checking in on {check_in} and checking out on {check_out}.\",\n",
    "    agent=travel_expert,\n",
    "    expected_output=\"All the details of a specifically chosen accommodation.\")\n",
    "\n",
    "hotel_review_task = Task(\n",
    "    description=\"Based on the recommendations provided, pick the best options based on ratings, reviews, and facilities available. \\\n",
    "    Consider that Budget is {budget} CAD. Try to find accommodations in and around the Budget.\",\n",
    "    expected_output=\"All the details of a specifically chosen accommodation including the price, URL, and any image if available.\",\n",
    "    agent=hotel_reviewer,\n",
    ")"
   ]
  },
  {
   "cell_type": "code",
   "execution_count": null,
   "metadata": {},
   "outputs": [],
   "source": [
    "# Create the Crew\n",
    "travel_agent_crew = Crew(\n",
    "    agents=[travel_expert],\n",
    "    tasks=[hotel_search_task],\n",
    "    verbose=True\n",
    ")\n",
    "\n",
    "event_criteria = {\n",
    "    'location': 'Brampton, Ontario',\n",
    "    'check_in': '23rd August, 2024',\n",
    "    'check_out': '25th August, 2024',\n",
    "    'number_of_people': 2,\n",
    "    'budget': 600\n",
    "}\n",
    "\n",
    "result = travel_agent_crew.kickoff(inputs=event_criteria)"
   ]
  }
 ],
 "metadata": {
  "kernelspec": {
   "display_name": "langchain",
   "language": "python",
   "name": "python3"
  },
  "language_info": {
   "codemirror_mode": {
    "name": "ipython",
    "version": 3
   },
   "file_extension": ".py",
   "mimetype": "text/x-python",
   "name": "python",
   "nbconvert_exporter": "python",
   "pygments_lexer": "ipython3",
   "version": "3.11.9"
  }
 },
 "nbformat": 4,
 "nbformat_minor": 2
}
